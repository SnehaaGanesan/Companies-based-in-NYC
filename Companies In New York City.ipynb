{
 "cells": [
  {
   "cell_type": "markdown",
   "metadata": {},
   "source": [
    "# Companies based in New York City \n",
    "##### By : Snehaa Ganesan (sg4860@nyu.edu)"
   ]
  },
  {
   "cell_type": "markdown",
   "metadata": {},
   "source": [
    "### *Stumbling upon a list of companies based in NYC (as part of my tiring job search), I decided to extract the data and get the breakdown of the companies belonging to each industry. Thought I might as well do it using my data centric skills using python in jupyter notebook.*"
   ]
  },
  {
   "cell_type": "markdown",
   "metadata": {},
   "source": [
    "#### Content reference & Citation : Thank you Wikipedia for the content - https://en.wikipedia.org/wiki/List_of_companies_based_in_New_York_City"
   ]
  },
  {
   "cell_type": "markdown",
   "metadata": {},
   "source": [
    "##### Step 1 : I used Google Chrome's developer tools to extract the data into a json format which I then saved as a json file - CompanyList.json (It is pretty simple, just a few lines of codes) \n",
    "##### Step 2 : Read on        ;)"
   ]
  },
  {
   "cell_type": "code",
   "execution_count": 1,
   "metadata": {
    "collapsed": true
   },
   "outputs": [],
   "source": [
    "import pandas as pd\n",
    "import numpy as np\n",
    "from pandas import Series, DataFrame\n",
    "import matplotlib.pyplot as plt\n",
    "import json\n",
    "from pandas.io.json import json_normalize\n",
    "%matplotlib inline"
   ]
  },
  {
   "cell_type": "code",
   "execution_count": 2,
   "metadata": {
    "collapsed": true
   },
   "outputs": [],
   "source": [
    "#Load the json file\n",
    "with open('CompanyList.json') as f:\n",
    "    d = json.load(f)"
   ]
  },
  {
   "cell_type": "code",
   "execution_count": 3,
   "metadata": {
    "collapsed": false
   },
   "outputs": [],
   "source": [
    "#Or load the json format content explicitly by typing/copy pasting it\n",
    "data = [{\n",
    "    \"ABM Industries\": \"business services\\n\",\n",
    "    \"About.com\": \"media\\n\",\n",
    "    \"Advance Publications\": \"media\\n\",\n",
    "    \"Aéropostale\": \"fashion\\n\",\n",
    "    \"Alcoa\": \"metal mining\\n\",\n",
    "    \"Alleghany\": \"insurance\\n\",\n",
    "    \"AllianceBernstein\": \"financial services\\n\",\n",
    "    \"Ambac Financial Group\": \"insurance\\n\",\n",
    "    \"American Environmental Assessment and Solutions Inc.\": \"environmental services\\n\",\n",
    "    \"American Express\": \"financial services\\n\",\n",
    "    \"American International Group\": \"insurance\\n\",\n",
    "    \"American Stock Exchange\": \"financial exchanges\\n\",\n",
    "    \"Ann Taylor\": \"fashion\\n\",\n",
    "    \"Anna Sui\": \"fashion\\n\",\n",
    "    \"Annaly Capital Management\": \"financial services\\n\",\n",
    "    \"AOL\": \"Internet\\n\",\n",
    "    \"Apollo Management\": \"financial services\\n\",\n",
    "    \"Apple Bank for Savings\": \"financial services\\n\",\n",
    "    \"Asbury Automotive Group\": \"retail\\n\",\n",
    "    \"Associated Press\": \"media\\n\",\n",
    "    \"Assurant\": \"insurance\\n\",\n",
    "    \"Atari (U.S. subsidiary)\": \"computers\\n\",\n",
    "    \"Atlantic Express\": \"transportation\\n\",\n",
    "    \"A.T. Kearney\": \"consulting\\n\",\n",
    "    \"Aventura Technologies\": \"telecommunications\\n\",\n",
    "    \"Avon Products\": \"fashion\\n\",\n",
    "    \"AXA Equitable Life Insurance Company\": \"insurance\\n\",\n",
    "    \"B&H Photo Video\": \"retail\\n\",\n",
    "    \"Bank of America Merrill Lynch\": \"financial services\\n\",\n",
    "    \"Barstool Sports\": \"media\\n\",\n",
    "    \"The Bank of New York Mellon\": \"financial services\\n\",\n",
    "    \"Barnes & Noble\": \"retail\\n\",\n",
    "    \"Barneys New York\": \"retail\\n\",\n",
    "    \"Bergdorf Goodman\": \"retail\\n\",\n",
    "    \"BlackRock\": \"financial services\\n\",\n",
    "    \"Blackstone Group\": \"financial services\\n\",\n",
    "    \"Bloomberg\": \"business services\\n\",\n",
    "    \"Bloomingdale's\": \"retail\\n\",\n",
    "    \"Booker Software, Inc.\": \"business services\\n\",\n",
    "    \"Booz & Company\": \"consulting\\n\",\n",
    "    \"Bristol-Myers Squibb\": \"pharmaceuticals\\n\",\n",
    "    \"Brooks Brothers\": \"fashion\\n\",\n",
    "    \"Brown Brothers Harriman & Co.\": \"financial services\\n\",\n",
    "    \"Bulova\": \"fashion\\n\",\n",
    "    \"Built NY\": \"consumer goods\\n\",\n",
    "    \"Cadillac\": \"automotive\\n\",\n",
    "    \"Cadwalader, Wickersham & Taft\": \"law firms\\n\",\n",
    "    \"Calvin Klein\": \"fashion\\n\",\n",
    "    \"Cantor Fitzgerald\": \"financial services\\n\",\n",
    "    \"CBS\": \"media\\n\",\n",
    "    \"CBS Corporation\": \"media\\n\",\n",
    "    \"CBS Radio\": \"media\\n\",\n",
    "    \"CCMP Capital\": \"financial services\\n\",\n",
    "    \"Century 21\": \"retail\\n\",\n",
    "    \"Cerberus Capital Management\": \"financial services\\n\",\n",
    "    \"Chadbourne & Parke LLP\": \"law firms\\n\",\n",
    "    \"CIT Group\": \"financial services\\n\",\n",
    "    \"Citigroup\": \"financial services\\n\",\n",
    "    \"Clayton, Dubilier & Rice\": \"financial services\\n\",\n",
    "    \"Cleary Gottlieb Steen & Hamilton\": \"law firms\\n\",\n",
    "    \"Club Monaco\": \"retail\\n\",\n",
    "    \"Coach\": \"fashion\\n\",\n",
    "    \"Colgate-Palmolive\": \"consumer goods\\n\",\n",
    "    \"Condé Nast Publications\": \"media\\n\",\n",
    "    \"Conductor\": \"media\\n\",\n",
    "    \"Consolidated Edison\": \"utilities\\n\",\n",
    "    \"Cowen Group\": \"financial services\\n\",\n",
    "    \"Cravath, Swaine & Moore\": \"law firms\\n\",\n",
    "    \"Cushman & Wakefield\": \"real estate\\n\",\n",
    "    \"Davis Polk & Wardwell\": \"law firms\\n\",\n",
    "    \"Debevoise & Plimpton\": \"law firms\\n\",\n",
    "    \"dELiA*s\": \"retail\\n\",\n",
    "    \"Deloitte Touche Tohmatsu\": \"accounting\\n\",\n",
    "    \"Deutsche Bank\": \"financial services\\n\",\n",
    "    \"Dewey & LeBoeuf\": \"law firms\\n\",\n",
    "    \"Dime Savings Bank of Williamsburgh\": \"financial services\\n\",\n",
    "    \"DKNY\": \"fashion\\n\",\n",
    "    \"DormAid\": \"Consumer services\\n\",\n",
    "    \"DoubleClick\": \"Internet\\n\",\n",
    "    \"Dow Jones & Company\": \"media\\n\",\n",
    "    \"E*TRADE\": \"financial services\\n\",\n",
    "    \"EmblemHealth\": \"insurance\\n\",\n",
    "    \"Emigrant Savings Bank\": \"financial services\\n\",\n",
    "    \"eMusic\": \"Internet\\n\",\n",
    "    \"EquityZen\": \"Financial services\\n\",\n",
    "    \"Ernst & Young\": \"accounting\\n\",\n",
    "    \"Estée Lauder Companies\": \"fashion\\n\",\n",
    "    \"Etsy\": \"Internet\\n\",\n",
    "    \"Evercore Partners\": \"financial services\\n\",\n",
    "    \"Fairchild Fashion Group\": \"media\\n\",\n",
    "    \"Fairway Market\": \"retail\\n\",\n",
    "    \"FAO Schwarz\": \"retail\\n\",\n",
    "    \"The Food Emporium\": \"retail\\n\",\n",
    "    \"Food Network\": \"media\\n\",\n",
    "    \"Foot Locker\": \"retail\\n\",\n",
    "    \"Forest Laboratories\": \"pharmaceuticals\\n\",\n",
    "    \"Fortress Investment Group\": \"financial services\\n\",\n",
    "    \"FreshDirect\": \"retail\\n\",\n",
    "    \"Fried, Frank, Harris, Shriver & Jacobson\": \"law firms\\n\",\n",
    "    \"flok\": \"AI/chatbots\\n\",\n",
    "    \"Fullstack Academy\": \"educational institutions\\n\",\n",
    "    \"Gadget Flow\": \"online retail\\n\",\n",
    "    \"GLG Partners\": \"financial services\\n\",\n",
    "    \"Goldman Sachs\": \"financial services\\n\",\n",
    "    \"Granite Broadcasting Corporation\": \"media\\n\",\n",
    "    \"Gristedes\": \"retail\\n\",\n",
    "    \"The Guardian Life Insurance Company of America\": \"insurance\\n\",\n",
    "    \"Hachette Book Group USA\": \"media\\n\",\n",
    "    \"HarperCollins\": \"media\\n\",\n",
    "    \"HBO\": \"media\\n\",\n",
    "    \"Hearst Corporation\": \"media\\n\",\n",
    "    \"Hearst Television\": \"media\\n\",\n",
    "    \"Hess\": \"oil\\n\",\n",
    "    \"HSBC Bank USA\": \"financial services\\n\",\n",
    "    \"IAC/InterActiveCorp\": \"Internet\\n\",\n",
    "    \"Icahn Enterprises\": \"conglomerates\\n\",\n",
    "    \"Iconix Brand Group\": \"fashion\\n\",\n",
    "    \"ImClone Systems\": \"pharmaceuticals\\n\",\n",
    "    \"ImpreMedia\": \"media\\n\",\n",
    "    \"Infor\": \"software\\n\",\n",
    "    \"Inner City Broadcasting Corporation\": \"media\\n\",\n",
    "    \"International Business Times\": \"media\\n\",\n",
    "    \"International Flavors and Fragrances\": \"chemicals\\n\",\n",
    "    \"International Securities Exchange\": \"financial exchanges\\n\",\n",
    "    \"Interpublic Group of Companies\": \"advertising\\n\",\n",
    "    \"J.Crew\": \"fashion\\n\",\n",
    "    \"J&R\": \"retail\\n\",\n",
    "    \"Jefferies & Company\": \"financial services\\n\",\n",
    "    \"JetBlue Airways\": \"transportation\\n\",\n",
    "    \"JPMorgan Chase\": \"financial services\\n\",\n",
    "    \"Kate Spade & Company\": \"fashion\\n\",\n",
    "    \"Kaye Scholer\": \"law firms\\n\",\n",
    "    \"Keefe, Bruyette & Woods\": \"financial services\\n\",\n",
    "    \"Kenneth Cole Productions\": \"fashion\\n\",\n",
    "    \"Kensington Books\": \"media\\n\",\n",
    "    \"Key Food\": \"retail\\n\",\n",
    "    \"Kohlberg Kravis Roberts\": \"financial services\\n\",\n",
    "    \"Kohn Pedersen Fox\": \"construction\\n\",\n",
    "    \"KPMG LLP\": \"accounting\\n\",\n",
    "    \"L-3 Communications\": \"aerospace\\n\",\n",
    "    \"Lazard Capital Markets\": \"financial services\\n\",\n",
    "    \"Leucadia National\": \"conglomerates\\n\",\n",
    "    \"Loehmann's\": \"retail\\n\",\n",
    "    \"Loews Corporation\": \"conglomerates\\n\",\n",
    "    \"Logicworks\": \"information technology\\n\",\n",
    "    \"M & F Worldwide\": \"business services\\n\",\n",
    "    \"MacAndrews & Forbes\": \"financial services\\n\",\n",
    "    \"Macy's\": \"retail\\n\",\n",
    "    \"Major League Baseball\": \"sports leagues (professional)\\n\",\n",
    "    \"Marc Jacobs\": \"fashion\\n\",\n",
    "    \"Marsh & McLennan Companies\": \"business services\\n\",\n",
    "    \"Martha Stewart Living Omnimedia\": \"media\\n\",\n",
    "    \"Marvel Entertainment\": \"media\\n\",\n",
    "    \"Max Mara\": \"fashion\\n\",\n",
    "    \"Alpha Media Group\": \"media\\n\",\n",
    "    \"McGraw-Hill Education\": \"education\\n\",\n",
    "    \"McGraw Hill Financial\": \"financial services\\n\",\n",
    "    \"McKinsey & Company\": \"consulting\\n\",\n",
    "    \"MetLife\": \"insurance\\n\",\n",
    "    \"MF Global\": \"financial services\\n\",\n",
    "    \"Michael Kors\": \"fashion\\n\",\n",
    "    \"Milbank, Tweed, Hadley & McCloy\": \"law firms\\n\",\n",
    "    \"Modell's\": \"retail\\n\",\n",
    "    \"Monster Worldwide\": \"Internet\\n\",\n",
    "    \"Moody's\": \"business services\\n\",\n",
    "    \"Moody's Analytics\": \"business services\\n\",\n",
    "    \"Morgan Stanley\": \"financial services\\n\",\n",
    "    \"MSCI\": \"financial services\\n\",\n",
    "    \"MTV Networks\": \"media\\n\",\n",
    "    \"Mutual of America\": \"insurance\\n\",\n",
    "    \"NASDAQ\": \"financial exchanges\\n\",\n",
    "    \"NASDAQ OMX Group\": \"financial exchanges\\n\",\n",
    "    \"National Basketball Association\": \"sports leagues (professional)\\n\",\n",
    "    \"National Football League\": \"sports leagues (professional)\\n\",\n",
    "    \"National Hockey League\": \"sports leagues (professional)\\n\",\n",
    "    \"NBC\": \"media\\n\",\n",
    "    \"NBC Universal\": \"media\\n\",\n",
    "    \"Nest Seekers International\": \"real estate\\n\",\n",
    "    \"New York & Company\": \"retail\\n\",\n",
    "    \"New York Board of Trade\": \"financial exchanges\\n\",\n",
    "    \"New York Life\": \"insurance\\n\",\n",
    "    \"New York Mercantile Exchange\": \"financial exchanges\\n\",\n",
    "    \"New York Private Bank & Trust\": \"financial services\\n\",\n",
    "    \"New York Stock Exchange\": \"financial exchanges\\n\",\n",
    "    \"The New York Times Company\": \"media\\n\",\n",
    "    \"New Young Broadcasting\": \"media\\n\",\n",
    "    \"Newmark Grubb Knight Frank\": \"real estate\\n\",\n",
    "    \"News Corporation\": \"media\\n\",\n",
    "    \"Nickelodeon\": \"media\\n\",\n",
    "    \"Nielsen Company\": \"business services\\n\",\n",
    "    \"NYSE Euronext\": \"financial exchanges\\n\",\n",
    "    \"Omnicom Group\": \"advertising\\n\",\n",
    "    \"Oppenheimer Holdings\": \"financial services\\n\",\n",
    "    \"Orrick, Herrington & Sutcliffe\": \"law firms\\n\",\n",
    "    \"Parsons Brinckerhoff\": \"construction\\n\",\n",
    "    \"Paul Stuart\": \"fashion\\n\",\n",
    "    \"Paul, Weiss, Rifkind, Wharton & Garrison\": \"law firms\\n\",\n",
    "    \"Percolate\": \"software\\n\",\n",
    "    \"Perella Weinberg Partners\": \"financial services\\n\",\n",
    "    \"Perkins Eastman\": \"construction\\n\",\n",
    "    \"Perseus Books Group\": \"media\\n\",\n",
    "    \"Pfizer\": \"pharmaceuticals\\n\",\n",
    "    \"Phat Farm\": \"fashion\\n\",\n",
    "    \"Philip Morris International\": \"tobacco\\n\",\n",
    "    \"Polo Ralph Lauren\": \"fashion\\n\",\n",
    "    \"The Princeton Review\": \"education services\\n\",\n",
    "    \"Priority Bicycles\": \"bicycles\\n\",\n",
    "    \"Prometheus Global Media\": \"media\\n\",\n",
    "    \"Proskauer Rose\": \"law firms\\n\",\n",
    "    \"PVH\": \"fashion\\n\",\n",
    "    \"Rainbow Shops\": \"retail\\n\",\n",
    "    \"Ralph Lauren\": \"fashion\\n\",\n",
    "    \"Random House\": \"media\\n\",\n",
    "    \"Reader's Digest Association\": \"media\\n\",\n",
    "    \"Red Apple Group\": \"oil\\n\",\n",
    "    \"The Related Companies\": \"real estate\\n\",\n",
    "    \"Renco Group\": \"conglomerates\\n\",\n",
    "    \"Revlon\": \"fashion\\n\",\n",
    "    \"Robert Graham\": \"fashion\\n\",\n",
    "    \"Rocawear\": \"fashion\\n\",\n",
    "    \"Roman (company)\": \"Pharma\\n\",\n",
    "    \"Rockstar Games\": \"computers\\n\",\n",
    "    \"RTTS (Real-Time Technology Solutions, Inc.)\": \"software quality testing\\n\",\n",
    "    \"Safra National Bank of New York\": \"financial services\\n\",\n",
    "    \"Saks Fifth Avenue\": \"retail\\n\",\n",
    "    \"Saks Incorporated\": \"retail\\n\",\n",
    "    \"Scholastic\": \"media\\n\",\n",
    "    \"Scientific Games Corporation\": \"computers\\n\",\n",
    "    \"Sean John\": \"fashion\\n\",\n",
    "    \"Schulte Roth & Zabel\": \"law firms\\n\",\n",
    "    \"Shearman & Sterling\": \"law firms\\n\",\n",
    "    \"Showtime Networks\": \"media\\n\",\n",
    "    \"Shutterstock\": \"stock photography, footage and music\\n\",\n",
    "    \"Simon & Schuster\": \"media\\n\",\n",
    "    \"Simpson Thacher & Bartlett\": \"law firms\\n\",\n",
    "    \"SINGER22\": \"fashion\\n\",\n",
    "    \"Sirius XM Radio\": \"media\\n\",\n",
    "    \"Skadden, Arps, Slate, Meagher & Flom\": \"law firms\\n\",\n",
    "    \"SL Green Realty\": \"real estate\\n\",\n",
    "    \"Sony Music Entertainment\": \"media\\n\",\n",
    "    \"Sotheby's\": \"business services\\n\",\n",
    "    \"Spiegel\": \"\\n\",\n",
    "    \"Steve Madden\": \"fashion\\n\",\n",
    "    \"STV Group\": \"construction\\n\",\n",
    "    \"Sullivan & Cromwell\": \"law firms\\n\",\n",
    "    \"Take-Two Interactive\": \"computers\\n\",\n",
    "    \"TheStreet.com\": \"Internet\\n\",\n",
    "    \"Thomson Reuters\": \"media\\n\",\n",
    "    \"Thrillist Media Group\": \"media\\n\",\n",
    "    \"TIAA-CREF\": \"insurance\\n\",\n",
    "    \"Tiffany & Co.\": \"retail\\n\",\n",
    "    \"Time Inc.\": \"media\\n\",\n",
    "    \"Time Warner\": \"media\\n\",\n",
    "    \"Tishman Realty & Construction\": \"real estate\\n\",\n",
    "    \"Tishman Speyer\": \"real estate\\n\",\n",
    "    \"Topps\": \"media\\n\",\n",
    "    \"Transammonia\": \"chemicals\\n\",\n",
    "    \"The Travelers Companies\": \"insurance\\n\",\n",
    "    \"Trilantic Capital Partners\": \"financial services\\n\",\n",
    "    \"Trump Organization\": \"real estate\\n\",\n",
    "    \"Tumblr\": \"Internet\\n\",\n",
    "    \"Turner Construction\": \"construction\\n\",\n",
    "    \"United Stations Radio Networks\": \"media\\n\",\n",
    "    \"Universal Music Group\": \"media\\n\",\n",
    "    \"Univision Communications\": \"media\\n\",\n",
    "    \"Verizon Communications\": \"telecommunications\\n\",\n",
    "    \"Viacom\": \"media\\n\",\n",
    "    \"Virgin Media\": \"telecommunications\\n\",\n",
    "    \"Vornado Realty Trust\": \"real estate\\n\",\n",
    "    \"Voya Financial\": \"banking and insurance\\n\",\n",
    "    \"W. W. Norton & Company\": \"media\\n\",\n",
    "    \"Warburg Pincus\": \"financial services\\n\",\n",
    "    \"Warnaco\": \"fashion\\n\",\n",
    "    \"Warner Music Group\": \"media\\n\",\n",
    "    \"Weight Watchers\": \"personal services\\n\",\n",
    "    \"Weil, Gotshal & Manges\": \"law firms\\n\",\n",
    "    \"The Weinstein Company\": \"media\\n\",\n",
    "    \"Welsh, Carson, Anderson & Stowe\": \"financial services\\n\",\n",
    "    \"Wenner Media\": \"media\\n\",\n",
    "    \"Westwood One\": \"media\\n\",\n",
    "    \"White & Case\": \"law firms\\n\",\n",
    "    \"William H. Sadlier, Inc.\": \"media\\n\",\n",
    "    \"Willis Towers Watson\": \"investment & insurance\\n\",\n",
    "    \"Willkie Farr & Gallagher\": \"law firms\\n\",\n",
    "    \"Wilson Elser Moskowitz Edelman & Dicker\": \"law firms\\n\",\n",
    "    \"Ziff Davis\": \"Publishing\\n\"\n",
    "}]\n",
    "df = pd.DataFrame.from_dict(json_normalize(data), orient='columns')\n"
   ]
  },
  {
   "cell_type": "code",
   "execution_count": 4,
   "metadata": {
    "collapsed": false
   },
   "outputs": [
    {
     "data": {
      "text/html": [
       "<div>\n",
       "<table border=\"1\" class=\"dataframe\">\n",
       "  <thead>\n",
       "    <tr style=\"text-align: right;\">\n",
       "      <th></th>\n",
       "      <th>Company</th>\n",
       "      <th>Industry</th>\n",
       "    </tr>\n",
       "  </thead>\n",
       "  <tbody>\n",
       "    <tr>\n",
       "      <th>0</th>\n",
       "      <td>EmblemHealth</td>\n",
       "      <td>insurance\\n</td>\n",
       "    </tr>\n",
       "    <tr>\n",
       "      <th>1</th>\n",
       "      <td>ImClone Systems</td>\n",
       "      <td>pharmaceuticals\\n</td>\n",
       "    </tr>\n",
       "    <tr>\n",
       "      <th>2</th>\n",
       "      <td>HBO</td>\n",
       "      <td>media\\n</td>\n",
       "    </tr>\n",
       "    <tr>\n",
       "      <th>3</th>\n",
       "      <td>The Related Companies</td>\n",
       "      <td>real estate\\n</td>\n",
       "    </tr>\n",
       "    <tr>\n",
       "      <th>4</th>\n",
       "      <td>Tiffany &amp; Co.</td>\n",
       "      <td>retail\\n</td>\n",
       "    </tr>\n",
       "  </tbody>\n",
       "</table>\n",
       "</div>"
      ],
      "text/plain": [
       "                 Company           Industry\n",
       "0           EmblemHealth        insurance\\n\n",
       "1        ImClone Systems  pharmaceuticals\\n\n",
       "2                    HBO            media\\n\n",
       "3  The Related Companies      real estate\\n\n",
       "4          Tiffany & Co.           retail\\n"
      ]
     },
     "execution_count": 4,
     "metadata": {},
     "output_type": "execute_result"
    }
   ],
   "source": [
    "#Converting dict to list then to pandas dataframe for use\n",
    "#We are using the dataset \"d\" that is the one loaded from json file\n",
    "d2 = pd.DataFrame(list(d.iteritems()),columns=['Company','Industry'])\n",
    "d2.head()"
   ]
  },
  {
   "cell_type": "code",
   "execution_count": 5,
   "metadata": {
    "collapsed": false
   },
   "outputs": [],
   "source": [
    "#Removing the \"\\n\" from Industry column\n",
    "d2['Industry'] = d2['Industry'].map(lambda x: x.rstrip('\\n'))"
   ]
  },
  {
   "cell_type": "code",
   "execution_count": 6,
   "metadata": {
    "collapsed": false
   },
   "outputs": [
    {
     "data": {
      "text/plain": [
       "media                                   56\n",
       "financial services                      43\n",
       "fashion                                 29\n",
       "retail                                  25\n",
       "law firms                               22\n",
       "insurance                               12\n",
       "business services                        9\n",
       "real estate                              9\n",
       "Internet                                 8\n",
       "financial exchanges                      8\n",
       "construction                             5\n",
       "pharmaceuticals                          4\n",
       "computers                                4\n",
       "conglomerates                            4\n",
       "sports leagues (professional)            4\n",
       "consulting                               3\n",
       "telecommunications                       3\n",
       "accounting                               3\n",
       "chemicals                                2\n",
       "consumer goods                           2\n",
       "software                                 2\n",
       "oil                                      2\n",
       "transportation                           2\n",
       "advertising                              2\n",
       "automotive                               1\n",
       "aerospace                                1\n",
       "software quality testing                 1\n",
       "Publishing                               1\n",
       "Pharma                                   1\n",
       "stock photography, footage and music     1\n",
       "AI/chatbots                              1\n",
       "personal services                        1\n",
       "educational institutions                 1\n",
       "environmental services                   1\n",
       "education services                       1\n",
       "Financial services                       1\n",
       "metal mining                             1\n",
       "education                                1\n",
       "information technology                   1\n",
       "utilities                                1\n",
       "online retail                            1\n",
       "tobacco                                  1\n",
       "Consumer services                        1\n",
       "investment & insurance                   1\n",
       "bicycles                                 1\n",
       "banking and insurance                    1\n",
       "                                         1\n",
       "Name: Industry, dtype: int64"
      ]
     },
     "execution_count": 6,
     "metadata": {},
     "output_type": "execute_result"
    }
   ],
   "source": [
    "#A breakdown of the number of companies per industry\n",
    "x = d2['Industry'].value_counts()\n",
    "x"
   ]
  },
  {
   "cell_type": "code",
   "execution_count": 7,
   "metadata": {
    "collapsed": false
   },
   "outputs": [
    {
     "data": {
      "text/html": [
       "<div>\n",
       "<table border=\"1\" class=\"dataframe\">\n",
       "  <thead>\n",
       "    <tr style=\"text-align: right;\">\n",
       "      <th></th>\n",
       "      <th>Industry</th>\n",
       "      <th>Count</th>\n",
       "    </tr>\n",
       "  </thead>\n",
       "  <tbody>\n",
       "    <tr>\n",
       "      <th>0</th>\n",
       "      <td>media</td>\n",
       "      <td>56</td>\n",
       "    </tr>\n",
       "    <tr>\n",
       "      <th>1</th>\n",
       "      <td>financial services</td>\n",
       "      <td>43</td>\n",
       "    </tr>\n",
       "    <tr>\n",
       "      <th>2</th>\n",
       "      <td>fashion</td>\n",
       "      <td>29</td>\n",
       "    </tr>\n",
       "    <tr>\n",
       "      <th>3</th>\n",
       "      <td>retail</td>\n",
       "      <td>25</td>\n",
       "    </tr>\n",
       "    <tr>\n",
       "      <th>4</th>\n",
       "      <td>law firms</td>\n",
       "      <td>22</td>\n",
       "    </tr>\n",
       "    <tr>\n",
       "      <th>5</th>\n",
       "      <td>insurance</td>\n",
       "      <td>12</td>\n",
       "    </tr>\n",
       "    <tr>\n",
       "      <th>6</th>\n",
       "      <td>business services</td>\n",
       "      <td>9</td>\n",
       "    </tr>\n",
       "    <tr>\n",
       "      <th>7</th>\n",
       "      <td>real estate</td>\n",
       "      <td>9</td>\n",
       "    </tr>\n",
       "    <tr>\n",
       "      <th>8</th>\n",
       "      <td>Internet</td>\n",
       "      <td>8</td>\n",
       "    </tr>\n",
       "    <tr>\n",
       "      <th>9</th>\n",
       "      <td>financial exchanges</td>\n",
       "      <td>8</td>\n",
       "    </tr>\n",
       "  </tbody>\n",
       "</table>\n",
       "</div>"
      ],
      "text/plain": [
       "              Industry  Count\n",
       "0                media     56\n",
       "1   financial services     43\n",
       "2              fashion     29\n",
       "3               retail     25\n",
       "4            law firms     22\n",
       "5            insurance     12\n",
       "6    business services      9\n",
       "7          real estate      9\n",
       "8             Internet      8\n",
       "9  financial exchanges      8"
      ]
     },
     "execution_count": 7,
     "metadata": {},
     "output_type": "execute_result"
    }
   ],
   "source": [
    "x.columns = ['Industry', 'Count']\n",
    "company_distribution = pd.DataFrame(list(x.iteritems()),columns=['Industry', 'Count'])\n",
    "company_distribution.head(10)"
   ]
  },
  {
   "cell_type": "code",
   "execution_count": 8,
   "metadata": {
    "collapsed": false
   },
   "outputs": [
    {
     "data": {
      "text/plain": [
       "<matplotlib.axes._subplots.AxesSubplot at 0x11a4a1150>"
      ]
     },
     "execution_count": 8,
     "metadata": {},
     "output_type": "execute_result"
    },
    {
     "data": {
      "image/png": "[encoded data removed]",
      "text/plain": [
       "<Figure size 800x600 with 1 Axes>"
      ]
     },
     "metadata": {},
     "output_type": "display_data"
    }
   ],
   "source": [
    "#A visual breakdown of the same \n",
    "f, ax = plt.subplots(figsize=(8, 6))\n",
    "plt.title(\"Industry distribution of companies\")\n",
    "plt.ylabel(\"Total number of companies per industry\")\n",
    "plt.xlabel(\"Industries\")\n",
    "d2['Industry'].value_counts().plot(kind = 'bar')"
   ]
  },
  {
   "cell_type": "code",
   "execution_count": 9,
   "metadata": {
    "collapsed": false
   },
   "outputs": [
    {
     "data": {
      "image/png": "[encoded data removed]",
      "text/plain": [
       "<Figure size 600x400 with 1 Axes>"
      ]
     },
     "metadata": {},
     "output_type": "display_data"
    }
   ],
   "source": [
    "#Pie chart breakdown of top 10 industries by percentage\n",
    "z = company_distribution.loc[0:9]\n",
    "plt.pie(\n",
    "    z['Count'],\n",
    "    labels=z['Industry'],\n",
    "    # with no shadows\n",
    "    shadow=False,\n",
    "    # with colors\n",
    "    colors=['r','g','y','b','c','m','b'],\n",
    "    # with one slide exploded out\n",
    "    #explode=(0, 0, 0, 0, 0.15),\n",
    "    # with the start angle at 90%\n",
    "    startangle=90,\n",
    "    # with the percent listed as a fraction\n",
    "    autopct='%1.1f%%',\n",
    "    )\n",
    "plt.axis('equal')\n",
    "\n",
    "# View the plot\n",
    "plt.tight_layout()\n",
    "plt.show()"
   ]
  },
  {
   "cell_type": "code",
   "execution_count": 10,
   "metadata": {
    "collapsed": false
   },
   "outputs": [],
   "source": [
    "#Counting the number of companies in the tech industries\n",
    "tech_industries = ['Internet','computers','software','software quality testing','AI/chatbots','information technology']\n",
    "count = 0\n",
    "for index, row in company_distribution.iterrows():\n",
    "    if row['Industry'] in tech_industries:\n",
    "        count += row['Count']\n",
    "total = company_distribution['Count'].sum()   \n"
   ]
  },
  {
   "cell_type": "code",
   "execution_count": 11,
   "metadata": {
    "collapsed": false
   },
   "outputs": [
    {
     "name": "stdout",
     "output_type": "stream",
     "text": [
      "Number of NYC based companies in the Tech industries come up to 17, out of a total of 286\n"
     ]
    }
   ],
   "source": [
    "print(\"Number of NYC based companies in the Tech industries come up to \"+str(count)+\", out of a total of \"+str(total))"
   ]
  },
  {
   "cell_type": "markdown",
   "metadata": {},
   "source": [
    "# Conclusion :\n",
    "### *Media companies make up the majority in New York City, followed by financial services (I would've guessed the vice versa)*\n",
    "\n",
    "### *And Tech industry makes up only ~5.9% of all companies based in NYC. The core tech companies that is.*"
   ]
  },
  {
   "cell_type": "markdown",
   "metadata": {},
   "source": [
    "                              ------------------THANK YOU---------------"
   ]
  }
 ],
 "metadata": {
  "kernelspec": {
   "display_name": "Python 2",
   "language": "python",
   "name": "python2"
  },
  "language_info": {
   "codemirror_mode": {
    "name": "ipython",
    "version": 2
   },
   "file_extension": ".py",
   "mimetype": "text/x-python",
   "name": "python",
   "nbconvert_exporter": "python",
   "pygments_lexer": "ipython2",
   "version": "2.7.13"
  }
 },
 "nbformat": 4,
 "nbformat_minor": 2
}
